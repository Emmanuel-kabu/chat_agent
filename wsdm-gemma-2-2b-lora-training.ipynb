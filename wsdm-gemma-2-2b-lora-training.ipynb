{
 "cells": [
  {
   "cell_type": "code",
   "execution_count": 1,
   "id": "68f85478",
   "metadata": {
    "_kg_hide-output": true,
    "execution": {
     "iopub.execute_input": "2025-01-25T21:01:50.450976Z",
     "iopub.status.busy": "2025-01-25T21:01:50.450740Z",
     "iopub.status.idle": "2025-01-25T21:02:06.792752Z",
     "shell.execute_reply": "2025-01-25T21:02:06.791692Z"
    },
    "papermill": {
     "duration": 16.34691,
     "end_time": "2025-01-25T21:02:06.794648",
     "exception": false,
     "start_time": "2025-01-25T21:01:50.447738",
     "status": "completed"
    },
    "tags": []
   },
   "outputs": [
    {
     "name": "stdout",
     "output_type": "stream",
     "text": [
      "Looking in links: /kaggle/input/lmsys-wheel-files\r\n",
      "Processing /kaggle/input/lmsys-wheel-files/transformers-4.42.3-py3-none-any.whl\r\n",
      "Processing /kaggle/input/lmsys-wheel-files/accelerate-0.32.1-py3-none-any.whl\r\n",
      "Processing /kaggle/input/lmsys-wheel-files/bitsandbytes-0.43.1-py3-none-manylinux_2_24_x86_64.whl\r\n",
      "Processing /kaggle/input/lmsys-wheel-files/peft-0.11.1-py3-none-any.whl\r\n",
      "Requirement already satisfied: filelock in /usr/local/lib/python3.10/dist-packages (from transformers==4.42.3) (3.16.1)\r\n",
      "Requirement already satisfied: huggingface-hub<1.0,>=0.23.2 in /usr/local/lib/python3.10/dist-packages (from transformers==4.42.3) (0.27.0)\r\n",
      "Requirement already satisfied: numpy<2.0,>=1.17 in /usr/local/lib/python3.10/dist-packages (from transformers==4.42.3) (1.26.4)\r\n",
      "Requirement already satisfied: packaging>=20.0 in /usr/local/lib/python3.10/dist-packages (from transformers==4.42.3) (24.2)\r\n",
      "Requirement already satisfied: pyyaml>=5.1 in /usr/local/lib/python3.10/dist-packages (from transformers==4.42.3) (6.0.2)\r\n",
      "Requirement already satisfied: regex!=2019.12.17 in /usr/local/lib/python3.10/dist-packages (from transformers==4.42.3) (2024.11.6)\r\n",
      "Requirement already satisfied: requests in /usr/local/lib/python3.10/dist-packages (from transformers==4.42.3) (2.32.3)\r\n",
      "Requirement already satisfied: safetensors>=0.4.1 in /usr/local/lib/python3.10/dist-packages (from transformers==4.42.3) (0.4.5)\r\n",
      "Processing /kaggle/input/lmsys-wheel-files/tokenizers-0.19.1-cp310-cp310-manylinux_2_17_x86_64.manylinux2014_x86_64.whl (from transformers==4.42.3)\r\n",
      "Requirement already satisfied: tqdm>=4.27 in /usr/local/lib/python3.10/dist-packages (from transformers==4.42.3) (4.67.1)\r\n",
      "Requirement already satisfied: psutil in /usr/local/lib/python3.10/dist-packages (from accelerate==0.32.1) (5.9.5)\r\n",
      "Requirement already satisfied: torch>=1.10.0 in /usr/local/lib/python3.10/dist-packages (from accelerate==0.32.1) (2.5.1+cu121)\r\n",
      "Requirement already satisfied: fsspec>=2023.5.0 in /usr/local/lib/python3.10/dist-packages (from huggingface-hub<1.0,>=0.23.2->transformers==4.42.3) (2024.9.0)\r\n",
      "Requirement already satisfied: typing-extensions>=3.7.4.3 in /usr/local/lib/python3.10/dist-packages (from huggingface-hub<1.0,>=0.23.2->transformers==4.42.3) (4.12.2)\r\n",
      "Requirement already satisfied: mkl_fft in /usr/local/lib/python3.10/dist-packages (from numpy<2.0,>=1.17->transformers==4.42.3) (1.3.8)\r\n",
      "Requirement already satisfied: mkl_random in /usr/local/lib/python3.10/dist-packages (from numpy<2.0,>=1.17->transformers==4.42.3) (1.2.4)\r\n",
      "Requirement already satisfied: mkl_umath in /usr/local/lib/python3.10/dist-packages (from numpy<2.0,>=1.17->transformers==4.42.3) (0.1.1)\r\n",
      "Requirement already satisfied: mkl in /usr/local/lib/python3.10/dist-packages (from numpy<2.0,>=1.17->transformers==4.42.3) (2025.0.1)\r\n",
      "Requirement already satisfied: tbb4py in /usr/local/lib/python3.10/dist-packages (from numpy<2.0,>=1.17->transformers==4.42.3) (2022.0.0)\r\n",
      "Requirement already satisfied: mkl-service in /usr/local/lib/python3.10/dist-packages (from numpy<2.0,>=1.17->transformers==4.42.3) (2.4.1)\r\n",
      "Requirement already satisfied: networkx in /usr/local/lib/python3.10/dist-packages (from torch>=1.10.0->accelerate==0.32.1) (3.4.2)\r\n",
      "Requirement already satisfied: jinja2 in /usr/local/lib/python3.10/dist-packages (from torch>=1.10.0->accelerate==0.32.1) (3.1.4)\r\n",
      "Requirement already satisfied: sympy==1.13.1 in /usr/local/lib/python3.10/dist-packages (from torch>=1.10.0->accelerate==0.32.1) (1.13.1)\r\n",
      "Requirement already satisfied: mpmath<1.4,>=1.1.0 in /usr/local/lib/python3.10/dist-packages (from sympy==1.13.1->torch>=1.10.0->accelerate==0.32.1) (1.3.0)\r\n",
      "Requirement already satisfied: charset-normalizer<4,>=2 in /usr/local/lib/python3.10/dist-packages (from requests->transformers==4.42.3) (3.4.0)\r\n",
      "Requirement already satisfied: idna<4,>=2.5 in /usr/local/lib/python3.10/dist-packages (from requests->transformers==4.42.3) (3.10)\r\n",
      "Requirement already satisfied: urllib3<3,>=1.21.1 in /usr/local/lib/python3.10/dist-packages (from requests->transformers==4.42.3) (2.2.3)\r\n",
      "Requirement already satisfied: certifi>=2017.4.17 in /usr/local/lib/python3.10/dist-packages (from requests->transformers==4.42.3) (2024.12.14)\r\n",
      "Requirement already satisfied: MarkupSafe>=2.0 in /usr/local/lib/python3.10/dist-packages (from jinja2->torch>=1.10.0->accelerate==0.32.1) (3.0.2)\r\n",
      "Requirement already satisfied: intel-openmp>=2024 in /usr/local/lib/python3.10/dist-packages (from mkl->numpy<2.0,>=1.17->transformers==4.42.3) (2024.2.0)\r\n",
      "Requirement already satisfied: tbb==2022.* in /usr/local/lib/python3.10/dist-packages (from mkl->numpy<2.0,>=1.17->transformers==4.42.3) (2022.0.0)\r\n",
      "Requirement already satisfied: tcmlib==1.* in /usr/local/lib/python3.10/dist-packages (from tbb==2022.*->mkl->numpy<2.0,>=1.17->transformers==4.42.3) (1.2.0)\r\n",
      "Requirement already satisfied: intel-cmplr-lib-rt in /usr/local/lib/python3.10/dist-packages (from mkl_umath->numpy<2.0,>=1.17->transformers==4.42.3) (2024.2.0)\r\n",
      "Requirement already satisfied: intel-cmplr-lib-ur==2024.2.0 in /usr/local/lib/python3.10/dist-packages (from intel-openmp>=2024->mkl->numpy<2.0,>=1.17->transformers==4.42.3) (2024.2.0)\r\n",
      "Installing collected packages: tokenizers, transformers, accelerate, peft, bitsandbytes\r\n",
      "  Attempting uninstall: tokenizers\r\n",
      "    Found existing installation: tokenizers 0.21.0\r\n",
      "    Uninstalling tokenizers-0.21.0:\r\n",
      "      Successfully uninstalled tokenizers-0.21.0\r\n",
      "  Attempting uninstall: transformers\r\n",
      "    Found existing installation: transformers 4.47.0\r\n",
      "    Uninstalling transformers-4.47.0:\r\n",
      "      Successfully uninstalled transformers-4.47.0\r\n",
      "  Attempting uninstall: accelerate\r\n",
      "    Found existing installation: accelerate 1.2.1\r\n",
      "    Uninstalling accelerate-1.2.1:\r\n",
      "      Successfully uninstalled accelerate-1.2.1\r\n",
      "  Attempting uninstall: peft\r\n",
      "    Found existing installation: peft 0.14.0\r\n",
      "    Uninstalling peft-0.14.0:\r\n",
      "      Successfully uninstalled peft-0.14.0\r\n",
      "Successfully installed accelerate-0.32.1 bitsandbytes-0.43.1 peft-0.11.1 tokenizers-0.19.1 transformers-4.42.3\r\n"
     ]
    }
   ],
   "source": [
    "!pip install transformers==4.42.3 accelerate==0.32.1 bitsandbytes==0.43.1 peft==0.11.1 \\\n",
    "    -U --no-index --find-links /kaggle/input/lmsys-wheel-files"
   ]
  },
  {
   "cell_type": "code",
   "execution_count": 2,
   "id": "f4caab0e",
   "metadata": {
    "execution": {
     "iopub.execute_input": "2025-01-25T21:02:06.802032Z",
     "iopub.status.busy": "2025-01-25T21:02:06.801789Z",
     "iopub.status.idle": "2025-01-25T21:02:28.262218Z",
     "shell.execute_reply": "2025-01-25T21:02:28.261296Z"
    },
    "papermill": {
     "duration": 21.465445,
     "end_time": "2025-01-25T21:02:28.263561",
     "exception": false,
     "start_time": "2025-01-25T21:02:06.798116",
     "status": "completed"
    },
    "tags": []
   },
   "outputs": [
    {
     "name": "stdout",
     "output_type": "stream",
     "text": [
      "PyTorch version: 2.5.1+cu121\n",
      "Transformers version: 4.42.3\n"
     ]
    }
   ],
   "source": [
    "import os\n",
    "os.environ['TOKENIZERS_PARALLELISM'] = 'false'\n",
    "import random\n",
    "import warnings\n",
    "from tqdm import tqdm\n",
    "from sklearn.metrics import accuracy_score\n",
    "import numpy as np, pandas as pd, polars as pl\n",
    "\n",
    "import torch\n",
    "import transformers\n",
    "from datasets import Dataset\n",
    "from peft import LoraConfig, prepare_model_for_kbit_training, get_peft_model\n",
    "from transformers import (GemmaTokenizerFast, TrainingArguments, Trainer, EvalPrediction,\n",
    "                          Gemma2ForSequenceClassification, DataCollatorWithPadding)\n",
    "\n",
    "warnings.simplefilter('ignore')\n",
    "print('PyTorch version:', torch.__version__)\n",
    "print('Transformers version:', transformers.__version__)"
   ]
  },
  {
   "cell_type": "code",
   "execution_count": 3,
   "id": "e291ce6b",
   "metadata": {
    "execution": {
     "iopub.execute_input": "2025-01-25T21:02:28.270984Z",
     "iopub.status.busy": "2025-01-25T21:02:28.270458Z",
     "iopub.status.idle": "2025-01-25T21:02:28.280472Z",
     "shell.execute_reply": "2025-01-25T21:02:28.279898Z"
    },
    "papermill": {
     "duration": 0.01492,
     "end_time": "2025-01-25T21:02:28.281708",
     "exception": false,
     "start_time": "2025-01-25T21:02:28.266788",
     "status": "completed"
    },
    "tags": []
   },
   "outputs": [],
   "source": [
    "class PATHS:\n",
    "    train_path = '/kaggle/input/wsdm-cup-multilingual-chatbot-arena/train.parquet'\n",
    "    model_path = '/kaggle/input/gemma-2/transformers/gemma-2-2b/2'\n",
    "    output_path = '/kaggle/working/gemma-2-2b-finetuned-seq-cls-wsdm'\n",
    "\n",
    "class CFG:\n",
    "    seed = 42\n",
    "    n_splits = 5\n",
    "    fold_idx = 0\n",
    "    max_length = 1900\n",
    "    num_layers = 26\n",
    "    freeze_layers = 10\n",
    "    fp16 = True\n",
    "    optim = 'adamw_torch'\n",
    "    learning_rate = 5e-5\n",
    "    weight_decay = 0.01\n",
    "    lr_scheduler = 'linear'\n",
    "    warmup_ratio = 0.01\n",
    "    train_epochs = 1\n",
    "    grad_accum_steps = 4\n",
    "    train_batch_size = 1\n",
    "    eval_batch_size = 1\n",
    "    eval_steps = 9600\n",
    "    save_steps = 200\n",
    "\n",
    "lora_config = LoraConfig(\n",
    "    r=16,\n",
    "    lora_alpha=32,\n",
    "    lora_dropout=0.05,\n",
    "    target_modules=[\"q_proj\", \"k_proj\", \"v_proj\", \"o_proj\", \"gate_proj\", \"up_proj\", \"down_proj\"],\n",
    "    layers_to_transform=[i for i in range(CFG.num_layers) if i >= CFG.freeze_layers],\n",
    "    bias='none',\n",
    "    task_type='SEQ_CLS',\n",
    ")\n",
    "\n",
    "def seed_everything(seed):\n",
    "    os.environ['PYTHONHASHSEED'] = str(seed)\n",
    "    random.seed(seed)\n",
    "    np.random.seed(seed)\n",
    "    torch.manual_seed(seed)\n",
    "    torch.cuda.manual_seed(seed)\n",
    "    torch.backends.cudnn.benchmark = True\n",
    "    torch.backends.cudnn.deterministic = True\n",
    "seed_everything(seed=CFG.seed)"
   ]
  },
  {
   "cell_type": "code",
   "execution_count": 4,
   "id": "ada9e100",
   "metadata": {
    "execution": {
     "iopub.execute_input": "2025-01-25T21:02:28.288423Z",
     "iopub.status.busy": "2025-01-25T21:02:28.288215Z",
     "iopub.status.idle": "2025-01-25T21:02:29.253993Z",
     "shell.execute_reply": "2025-01-25T21:02:29.253319Z"
    },
    "papermill": {
     "duration": 0.970716,
     "end_time": "2025-01-25T21:02:29.255479",
     "exception": false,
     "start_time": "2025-01-25T21:02:28.284763",
     "status": "completed"
    },
    "tags": []
   },
   "outputs": [],
   "source": [
    "tokenizer = GemmaTokenizerFast.from_pretrained(PATHS.model_path, add_eos_token = True, padding_side = \"right\")\n",
    "\n",
    "def tokenize(tokenizer, prompt, response_a, response_b, max_length=CFG.max_length):\n",
    "    prompt = [\"<prompt>: \" + t for t in prompt]\n",
    "    response_a = [\"\\n\\n<response_a>: \" + t for t in response_a]\n",
    "    response_b = [\"\\n\\n<response_b>: \" + t for t in response_b]\n",
    "    texts = [p + r_a + r_b for p, r_a, r_b in zip(prompt, response_a, response_b)]\n",
    "    tokenized = tokenizer(texts, max_length=max_length, truncation=True)\n",
    "    return tokenized['input_ids'], tokenized['attention_mask']"
   ]
  },
  {
   "cell_type": "code",
   "execution_count": 5,
   "id": "6148eabc",
   "metadata": {
    "execution": {
     "iopub.execute_input": "2025-01-25T21:02:29.263174Z",
     "iopub.status.busy": "2025-01-25T21:02:29.262951Z",
     "iopub.status.idle": "2025-01-25T21:05:12.305273Z",
     "shell.execute_reply": "2025-01-25T21:05:12.304313Z"
    },
    "papermill": {
     "duration": 163.047605,
     "end_time": "2025-01-25T21:05:12.306689",
     "exception": false,
     "start_time": "2025-01-25T21:02:29.259084",
     "status": "completed"
    },
    "tags": []
   },
   "outputs": [
    {
     "name": "stderr",
     "output_type": "stream",
     "text": [
      "100%|██████████| 48439/48439 [00:29<00:00, 1662.24it/s]\n",
      "100%|██████████| 48439/48439 [01:04<00:00, 747.69it/s]\n",
      "100%|██████████| 48439/48439 [01:07<00:00, 722.96it/s]"
     ]
    },
    {
     "name": "stdout",
     "output_type": "stream",
     "text": [
      "CPU times: user 2min 42s, sys: 1.31 s, total: 2min 43s\n",
      "Wall time: 2min 43s\n"
     ]
    },
    {
     "name": "stderr",
     "output_type": "stream",
     "text": [
      "\n"
     ]
    }
   ],
   "source": [
    "%%time\n",
    "train_df = pl.read_parquet(PATHS.train_path).to_pandas()\n",
    "\n",
    "for col in ['prompt', 'response_a', 'response_b']:\n",
    "    train_df[col] = train_df[col].fillna('')\n",
    "    text_list = []\n",
    "    if col == 'prompt':\n",
    "        max_no = 402\n",
    "        s_no = 200\n",
    "        e_no = -201\n",
    "    else:\n",
    "        max_no = 702\n",
    "        s_no = 350\n",
    "        e_no = -351\n",
    "    for text in tqdm(train_df[col]):\n",
    "        encoded = tokenizer(text, return_offsets_mapping=True)\n",
    "        if len(encoded['input_ids']) > max_no:\n",
    "            start_idx, end_idx = encoded['offset_mapping'][s_no]\n",
    "            new_text = text[:end_idx]\n",
    "            #print(len(tokenizer(text[:end_idx])['input_ids']))\n",
    "            start_idx, end_idx = encoded['offset_mapping'][e_no]\n",
    "            #print(len(tokenizer(text[start_idx:])['input_ids']))\n",
    "            new_text = new_text + \"\\n(snip)\\n\" + text[start_idx:]\n",
    "            #print(len(tokenizer(new_text)['input_ids']), new_text)\n",
    "            text = new_text\n",
    "        text_list.append(text)\n",
    "    train_df[col] = text_list"
   ]
  },
  {
   "cell_type": "code",
   "execution_count": 6,
   "id": "45a9889f",
   "metadata": {
    "execution": {
     "iopub.execute_input": "2025-01-25T21:05:12.443924Z",
     "iopub.status.busy": "2025-01-25T21:05:12.443667Z",
     "iopub.status.idle": "2025-01-25T21:07:04.617812Z",
     "shell.execute_reply": "2025-01-25T21:07:04.616956Z"
    },
    "papermill": {
     "duration": 112.310962,
     "end_time": "2025-01-25T21:07:04.688094",
     "exception": false,
     "start_time": "2025-01-25T21:05:12.377132",
     "status": "completed"
    },
    "tags": []
   },
   "outputs": [
    {
     "name": "stdout",
     "output_type": "stream",
     "text": [
      "CPU times: user 1min 45s, sys: 7.36 s, total: 1min 52s\n",
      "Wall time: 1min 52s\n"
     ]
    }
   ],
   "source": [
    "%%time\n",
    "train_df['winner_encoded'] = train_df['winner'].map({'model_a': 0, 'model_b': 1})\n",
    "\n",
    "data = pd.DataFrame()\n",
    "data[\"input_ids\"], data[\"attention_mask\"] = tokenize(tokenizer, train_df[\"prompt\"], train_df[\"response_a\"], train_df[\"response_b\"])\n",
    "data[\"labels\"] = train_df[\"winner_encoded\"]\n",
    "\n",
    "folds = [\n",
    "    (\n",
    "        [i for i in range(len(data)) if i % CFG.n_splits != fold_idx],\n",
    "        [i for i in range(len(data)) if i % CFG.n_splits == fold_idx]\n",
    "    ) \n",
    "    for fold_idx in range(CFG.n_splits)\n",
    "]\n",
    "train_idx, eval_idx = folds[CFG.fold_idx]\n",
    "\n",
    "ds = Dataset.from_pandas(data)"
   ]
  },
  {
   "cell_type": "code",
   "execution_count": 7,
   "id": "e2d283f9",
   "metadata": {
    "execution": {
     "iopub.execute_input": "2025-01-25T21:07:04.861364Z",
     "iopub.status.busy": "2025-01-25T21:07:04.861058Z",
     "iopub.status.idle": "2025-01-25T21:08:23.652878Z",
     "shell.execute_reply": "2025-01-25T21:08:23.651933Z"
    },
    "papermill": {
     "duration": 78.900809,
     "end_time": "2025-01-25T21:08:23.654362",
     "exception": false,
     "start_time": "2025-01-25T21:07:04.753553",
     "status": "completed"
    },
    "tags": []
   },
   "outputs": [
    {
     "data": {
      "application/vnd.jupyter.widget-view+json": {
       "model_id": "f06e01ef361e4d51995223c945e5d688",
       "version_major": 2,
       "version_minor": 0
      },
      "text/plain": [
       "Loading checkpoint shards:   0%|          | 0/3 [00:00<?, ?it/s]"
      ]
     },
     "metadata": {},
     "output_type": "display_data"
    },
    {
     "name": "stderr",
     "output_type": "stream",
     "text": [
      "Some weights of Gemma2ForSequenceClassification were not initialized from the model checkpoint at /kaggle/input/gemma-2/transformers/gemma-2-2b/2 and are newly initialized: ['score.weight']\n",
      "You should probably TRAIN this model on a down-stream task to be able to use it for predictions and inference.\n"
     ]
    },
    {
     "name": "stdout",
     "output_type": "stream",
     "text": [
      "trainable params: 12,784,128 || all params: 2,627,130,624 || trainable%: 0.4866\n"
     ]
    }
   ],
   "source": [
    "def compute_metrics(eval_pred: EvalPrediction) -> dict:\n",
    "    pred, label = eval_pred.predictions, eval_pred.label_ids\n",
    "    accuracy = accuracy_score(y_true=label, y_pred=pred.argmax(-1))\n",
    "    return {'accuracy': accuracy}\n",
    "\n",
    "train_args = TrainingArguments(\n",
    "    report_to='none',\n",
    "    output_dir=PATHS.output_path,\n",
    "    fp16=CFG.fp16,\n",
    "    optim=CFG.optim,\n",
    "    learning_rate=CFG.learning_rate,\n",
    "    weight_decay=CFG.weight_decay,\n",
    "    lr_scheduler_type=CFG.lr_scheduler,\n",
    "    warmup_ratio=CFG.warmup_ratio,\n",
    "    num_train_epochs=CFG.train_epochs,\n",
    "    gradient_accumulation_steps=CFG.grad_accum_steps,\n",
    "    per_device_train_batch_size=CFG.train_batch_size,\n",
    "    per_device_eval_batch_size=CFG.eval_batch_size,\n",
    "    eval_steps=CFG.eval_steps,\n",
    "    save_steps=CFG.save_steps,\n",
    "    evaluation_strategy='steps',\n",
    "    save_strategy='steps',\n",
    "    save_total_limit=3,\n",
    "    metric_for_best_model='accuracy',\n",
    "    greater_is_better=True,\n",
    "    load_best_model_at_end=False,\n",
    ")\n",
    "\n",
    "model = Gemma2ForSequenceClassification.from_pretrained(\n",
    "    PATHS.model_path,\n",
    "    num_labels=2,\n",
    "    use_cache=False,\n",
    "    device_map=\"auto\",\n",
    ")\n",
    "model = prepare_model_for_kbit_training(model)\n",
    "model = get_peft_model(model, lora_config)\n",
    "model.print_trainable_parameters()\n",
    "\n",
    "trainer = Trainer(\n",
    "    args=train_args, \n",
    "    model=model,\n",
    "    tokenizer=tokenizer,\n",
    "    train_dataset=ds.select(train_idx),\n",
    "    eval_dataset=ds.select(eval_idx),\n",
    "    compute_metrics=compute_metrics,\n",
    "    data_collator=DataCollatorWithPadding(tokenizer=tokenizer),\n",
    ")"
   ]
  },
  {
   "cell_type": "code",
   "execution_count": 8,
   "id": "9ebec11c",
   "metadata": {
    "execution": {
     "iopub.execute_input": "2025-01-25T21:08:23.789047Z",
     "iopub.status.busy": "2025-01-25T21:08:23.788814Z",
     "iopub.status.idle": "2025-01-26T07:06:15.836830Z",
     "shell.execute_reply": "2025-01-26T07:06:15.836056Z"
    },
    "papermill": {
     "duration": 35872.116541,
     "end_time": "2025-01-26T07:06:15.838235",
     "exception": false,
     "start_time": "2025-01-25T21:08:23.721694",
     "status": "completed"
    },
    "tags": []
   },
   "outputs": [
    {
     "data": {
      "text/html": [
       "\n",
       "    <div>\n",
       "      \n",
       "      <progress value='9687' max='9687' style='width:300px; height:20px; vertical-align: middle;'></progress>\n",
       "      [9687/9687 9:57:46, Epoch 0/1]\n",
       "    </div>\n",
       "    <table border=\"1\" class=\"dataframe\">\n",
       "  <thead>\n",
       " <tr style=\"text-align: left;\">\n",
       "      <th>Step</th>\n",
       "      <th>Training Loss</th>\n",
       "      <th>Validation Loss</th>\n",
       "      <th>Accuracy</th>\n",
       "    </tr>\n",
       "  </thead>\n",
       "  <tbody>\n",
       "    <tr>\n",
       "      <td>9600</td>\n",
       "      <td>0.635000</td>\n",
       "      <td>0.616717</td>\n",
       "      <td>0.652766</td>\n",
       "    </tr>\n",
       "  </tbody>\n",
       "</table><p>"
      ],
      "text/plain": [
       "<IPython.core.display.HTML object>"
      ]
     },
     "metadata": {},
     "output_type": "display_data"
    },
    {
     "data": {
      "text/plain": [
       "TrainOutput(global_step=9687, training_loss=0.6860104314040705, metrics={'train_runtime': 35869.4068, 'train_samples_per_second': 1.08, 'train_steps_per_second': 0.27, 'total_flos': 4.684515090407286e+17, 'train_loss': 0.6860104314040705, 'epoch': 0.9999225826430286})"
      ]
     },
     "execution_count": 8,
     "metadata": {},
     "output_type": "execute_result"
    }
   ],
   "source": [
    "trainer.train()"
   ]
  },
  {
   "cell_type": "code",
   "execution_count": null,
   "id": "cc529aee",
   "metadata": {
    "papermill": {
     "duration": 0.066761,
     "end_time": "2025-01-26T07:06:15.975321",
     "exception": false,
     "start_time": "2025-01-26T07:06:15.908560",
     "status": "completed"
    },
    "tags": []
   },
   "outputs": [],
   "source": []
  }
 ],
 "metadata": {
  "kaggle": {
   "accelerator": "nvidiaTeslaT4",
   "dataSources": [
    {
     "databundleVersionId": 10131489,
     "sourceId": 86946,
     "sourceType": "competition"
    },
    {
     "datasetId": 5297895,
     "sourceId": 8897601,
     "sourceType": "datasetVersion"
    },
    {
     "modelId": 76277,
     "modelInstanceId": 72253,
     "sourceId": 104625,
     "sourceType": "modelInstanceVersion"
    }
   ],
   "dockerImageVersionId": 30840,
   "isGpuEnabled": true,
   "isInternetEnabled": false,
   "language": "python",
   "sourceType": "notebook"
  },
  "kernelspec": {
   "display_name": "Python 3",
   "language": "python",
   "name": "python3"
  },
  "language_info": {
   "codemirror_mode": {
    "name": "ipython",
    "version": 3
   },
   "file_extension": ".py",
   "mimetype": "text/x-python",
   "name": "python",
   "nbconvert_exporter": "python",
   "pygments_lexer": "ipython3",
   "version": "3.10.12"
  },
  "papermill": {
   "default_parameters": {},
   "duration": 36272.025098,
   "end_time": "2025-01-26T07:06:19.904126",
   "environment_variables": {},
   "exception": null,
   "input_path": "__notebook__.ipynb",
   "output_path": "__notebook__.ipynb",
   "parameters": {},
   "start_time": "2025-01-25T21:01:47.879028",
   "version": "2.6.0"
  },
  "widgets": {
   "application/vnd.jupyter.widget-state+json": {
    "state": {
     "435d6b6fd57441b387b7d9b2cf58a909": {
      "model_module": "@jupyter-widgets/base",
      "model_module_version": "2.0.0",
      "model_name": "LayoutModel",
      "state": {
       "_model_module": "@jupyter-widgets/base",
       "_model_module_version": "2.0.0",
       "_model_name": "LayoutModel",
       "_view_count": null,
       "_view_module": "@jupyter-widgets/base",
       "_view_module_version": "2.0.0",
       "_view_name": "LayoutView",
       "align_content": null,
       "align_items": null,
       "align_self": null,
       "border_bottom": null,
       "border_left": null,
       "border_right": null,
       "border_top": null,
       "bottom": null,
       "display": null,
       "flex": null,
       "flex_flow": null,
       "grid_area": null,
       "grid_auto_columns": null,
       "grid_auto_flow": null,
       "grid_auto_rows": null,
       "grid_column": null,
       "grid_gap": null,
       "grid_row": null,
       "grid_template_areas": null,
       "grid_template_columns": null,
       "grid_template_rows": null,
       "height": null,
       "justify_content": null,
       "justify_items": null,
       "left": null,
       "margin": null,
       "max_height": null,
       "max_width": null,
       "min_height": null,
       "min_width": null,
       "object_fit": null,
       "object_position": null,
       "order": null,
       "overflow": null,
       "padding": null,
       "right": null,
       "top": null,
       "visibility": null,
       "width": null
      }
     },
     "49b297f126a5479daf8c833c9682e9a2": {
      "model_module": "@jupyter-widgets/base",
      "model_module_version": "2.0.0",
      "model_name": "LayoutModel",
      "state": {
       "_model_module": "@jupyter-widgets/base",
       "_model_module_version": "2.0.0",
       "_model_name": "LayoutModel",
       "_view_count": null,
       "_view_module": "@jupyter-widgets/base",
       "_view_module_version": "2.0.0",
       "_view_name": "LayoutView",
       "align_content": null,
       "align_items": null,
       "align_self": null,
       "border_bottom": null,
       "border_left": null,
       "border_right": null,
       "border_top": null,
       "bottom": null,
       "display": null,
       "flex": null,
       "flex_flow": null,
       "grid_area": null,
       "grid_auto_columns": null,
       "grid_auto_flow": null,
       "grid_auto_rows": null,
       "grid_column": null,
       "grid_gap": null,
       "grid_row": null,
       "grid_template_areas": null,
       "grid_template_columns": null,
       "grid_template_rows": null,
       "height": null,
       "justify_content": null,
       "justify_items": null,
       "left": null,
       "margin": null,
       "max_height": null,
       "max_width": null,
       "min_height": null,
       "min_width": null,
       "object_fit": null,
       "object_position": null,
       "order": null,
       "overflow": null,
       "padding": null,
       "right": null,
       "top": null,
       "visibility": null,
       "width": null
      }
     },
     "59ebe843133842a4ba9531925303ed73": {
      "model_module": "@jupyter-widgets/controls",
      "model_module_version": "2.0.0",
      "model_name": "HTMLStyleModel",
      "state": {
       "_model_module": "@jupyter-widgets/controls",
       "_model_module_version": "2.0.0",
       "_model_name": "HTMLStyleModel",
       "_view_count": null,
       "_view_module": "@jupyter-widgets/base",
       "_view_module_version": "2.0.0",
       "_view_name": "StyleView",
       "background": null,
       "description_width": "",
       "font_size": null,
       "text_color": null
      }
     },
     "6eefd15181554335a2759825c3dc33a7": {
      "model_module": "@jupyter-widgets/controls",
      "model_module_version": "2.0.0",
      "model_name": "HTMLModel",
      "state": {
       "_dom_classes": [],
       "_model_module": "@jupyter-widgets/controls",
       "_model_module_version": "2.0.0",
       "_model_name": "HTMLModel",
       "_view_count": null,
       "_view_module": "@jupyter-widgets/controls",
       "_view_module_version": "2.0.0",
       "_view_name": "HTMLView",
       "description": "",
       "description_allow_html": false,
       "layout": "IPY_MODEL_b06efae5498742328f24a423f88b5e78",
       "placeholder": "​",
       "style": "IPY_MODEL_e167897127af4f3f9d9de1e926c536c6",
       "tabbable": null,
       "tooltip": null,
       "value": "Loading checkpoint shards: 100%"
      }
     },
     "82a9a27ec1c34482b512f95e1a74149b": {
      "model_module": "@jupyter-widgets/controls",
      "model_module_version": "2.0.0",
      "model_name": "HTMLModel",
      "state": {
       "_dom_classes": [],
       "_model_module": "@jupyter-widgets/controls",
       "_model_module_version": "2.0.0",
       "_model_name": "HTMLModel",
       "_view_count": null,
       "_view_module": "@jupyter-widgets/controls",
       "_view_module_version": "2.0.0",
       "_view_name": "HTMLView",
       "description": "",
       "description_allow_html": false,
       "layout": "IPY_MODEL_49b297f126a5479daf8c833c9682e9a2",
       "placeholder": "​",
       "style": "IPY_MODEL_59ebe843133842a4ba9531925303ed73",
       "tabbable": null,
       "tooltip": null,
       "value": " 3/3 [01:17&lt;00:00, 21.95s/it]"
      }
     },
     "888793f1fe8c4c66a25e6ad17184a8f1": {
      "model_module": "@jupyter-widgets/base",
      "model_module_version": "2.0.0",
      "model_name": "LayoutModel",
      "state": {
       "_model_module": "@jupyter-widgets/base",
       "_model_module_version": "2.0.0",
       "_model_name": "LayoutModel",
       "_view_count": null,
       "_view_module": "@jupyter-widgets/base",
       "_view_module_version": "2.0.0",
       "_view_name": "LayoutView",
       "align_content": null,
       "align_items": null,
       "align_self": null,
       "border_bottom": null,
       "border_left": null,
       "border_right": null,
       "border_top": null,
       "bottom": null,
       "display": null,
       "flex": null,
       "flex_flow": null,
       "grid_area": null,
       "grid_auto_columns": null,
       "grid_auto_flow": null,
       "grid_auto_rows": null,
       "grid_column": null,
       "grid_gap": null,
       "grid_row": null,
       "grid_template_areas": null,
       "grid_template_columns": null,
       "grid_template_rows": null,
       "height": null,
       "justify_content": null,
       "justify_items": null,
       "left": null,
       "margin": null,
       "max_height": null,
       "max_width": null,
       "min_height": null,
       "min_width": null,
       "object_fit": null,
       "object_position": null,
       "order": null,
       "overflow": null,
       "padding": null,
       "right": null,
       "top": null,
       "visibility": null,
       "width": null
      }
     },
     "9ad4faa77fe74091af1e6b3c3db2baba": {
      "model_module": "@jupyter-widgets/controls",
      "model_module_version": "2.0.0",
      "model_name": "ProgressStyleModel",
      "state": {
       "_model_module": "@jupyter-widgets/controls",
       "_model_module_version": "2.0.0",
       "_model_name": "ProgressStyleModel",
       "_view_count": null,
       "_view_module": "@jupyter-widgets/base",
       "_view_module_version": "2.0.0",
       "_view_name": "StyleView",
       "bar_color": null,
       "description_width": ""
      }
     },
     "b06efae5498742328f24a423f88b5e78": {
      "model_module": "@jupyter-widgets/base",
      "model_module_version": "2.0.0",
      "model_name": "LayoutModel",
      "state": {
       "_model_module": "@jupyter-widgets/base",
       "_model_module_version": "2.0.0",
       "_model_name": "LayoutModel",
       "_view_count": null,
       "_view_module": "@jupyter-widgets/base",
       "_view_module_version": "2.0.0",
       "_view_name": "LayoutView",
       "align_content": null,
       "align_items": null,
       "align_self": null,
       "border_bottom": null,
       "border_left": null,
       "border_right": null,
       "border_top": null,
       "bottom": null,
       "display": null,
       "flex": null,
       "flex_flow": null,
       "grid_area": null,
       "grid_auto_columns": null,
       "grid_auto_flow": null,
       "grid_auto_rows": null,
       "grid_column": null,
       "grid_gap": null,
       "grid_row": null,
       "grid_template_areas": null,
       "grid_template_columns": null,
       "grid_template_rows": null,
       "height": null,
       "justify_content": null,
       "justify_items": null,
       "left": null,
       "margin": null,
       "max_height": null,
       "max_width": null,
       "min_height": null,
       "min_width": null,
       "object_fit": null,
       "object_position": null,
       "order": null,
       "overflow": null,
       "padding": null,
       "right": null,
       "top": null,
       "visibility": null,
       "width": null
      }
     },
     "dd5313cc761945afa2665f5eb13df520": {
      "model_module": "@jupyter-widgets/controls",
      "model_module_version": "2.0.0",
      "model_name": "FloatProgressModel",
      "state": {
       "_dom_classes": [],
       "_model_module": "@jupyter-widgets/controls",
       "_model_module_version": "2.0.0",
       "_model_name": "FloatProgressModel",
       "_view_count": null,
       "_view_module": "@jupyter-widgets/controls",
       "_view_module_version": "2.0.0",
       "_view_name": "ProgressView",
       "bar_style": "success",
       "description": "",
       "description_allow_html": false,
       "layout": "IPY_MODEL_888793f1fe8c4c66a25e6ad17184a8f1",
       "max": 3.0,
       "min": 0.0,
       "orientation": "horizontal",
       "style": "IPY_MODEL_9ad4faa77fe74091af1e6b3c3db2baba",
       "tabbable": null,
       "tooltip": null,
       "value": 3.0
      }
     },
     "e167897127af4f3f9d9de1e926c536c6": {
      "model_module": "@jupyter-widgets/controls",
      "model_module_version": "2.0.0",
      "model_name": "HTMLStyleModel",
      "state": {
       "_model_module": "@jupyter-widgets/controls",
       "_model_module_version": "2.0.0",
       "_model_name": "HTMLStyleModel",
       "_view_count": null,
       "_view_module": "@jupyter-widgets/base",
       "_view_module_version": "2.0.0",
       "_view_name": "StyleView",
       "background": null,
       "description_width": "",
       "font_size": null,
       "text_color": null
      }
     },
     "f06e01ef361e4d51995223c945e5d688": {
      "model_module": "@jupyter-widgets/controls",
      "model_module_version": "2.0.0",
      "model_name": "HBoxModel",
      "state": {
       "_dom_classes": [],
       "_model_module": "@jupyter-widgets/controls",
       "_model_module_version": "2.0.0",
       "_model_name": "HBoxModel",
       "_view_count": null,
       "_view_module": "@jupyter-widgets/controls",
       "_view_module_version": "2.0.0",
       "_view_name": "HBoxView",
       "box_style": "",
       "children": [
        "IPY_MODEL_6eefd15181554335a2759825c3dc33a7",
        "IPY_MODEL_dd5313cc761945afa2665f5eb13df520",
        "IPY_MODEL_82a9a27ec1c34482b512f95e1a74149b"
       ],
       "layout": "IPY_MODEL_435d6b6fd57441b387b7d9b2cf58a909",
       "tabbable": null,
       "tooltip": null
      }
     }
    },
    "version_major": 2,
    "version_minor": 0
   }
  }
 },
 "nbformat": 4,
 "nbformat_minor": 5
}
